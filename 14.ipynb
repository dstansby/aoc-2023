{
 "cells": [
  {
   "cell_type": "code",
   "execution_count": 1,
   "metadata": {},
   "outputs": [],
   "source": [
    "from lib import read_file\n",
    "\n",
    "import numpy as np\n",
    "import tqdm"
   ]
  },
  {
   "cell_type": "code",
   "execution_count": 2,
   "metadata": {},
   "outputs": [],
   "source": [
    "def tilt(arr):\n",
    "    # Modifies arr in place\n",
    "    for j in range(arr.shape[1]):\n",
    "        for i in range(1, arr.shape[0]):\n",
    "            if arr[i, j] == \"O\":\n",
    "                under = arr[:i, j]\n",
    "                # Find highest rock\n",
    "                rocks = np.where(under == \"#\")[0]\n",
    "                # Find lowest space\n",
    "                spaces = np.where(under == \".\")[0]\n",
    "                if len(rocks):\n",
    "                    spaces = spaces[spaces > max(rocks)]\n",
    "\n",
    "                if len(spaces):\n",
    "                    move = min(spaces)\n",
    "                    arr[move, j] = \"O\"\n",
    "                    arr[i, j] = \".\"\n",
    "\n",
    "# Count\n",
    "def total(arr):\n",
    "    tot = 0\n",
    "    for j in range(arr.shape[1]):\n",
    "        for i in range(0, arr.shape[0]):\n",
    "            if arr[i, j] == \"O\":\n",
    "                tot += arr.shape[0] - i\n",
    "    return tot"
   ]
  },
  {
   "cell_type": "code",
   "execution_count": 33,
   "metadata": {},
   "outputs": [
    {
     "name": "stderr",
     "output_type": "stream",
     "text": [
      "  0%|          | 178/1000000000 [00:07<11915:52:00, 23.31it/s]"
     ]
    },
    {
     "name": "stdout",
     "output_type": "stream",
     "text": [
      "85 178\n"
     ]
    },
    {
     "name": "stderr",
     "output_type": "stream",
     "text": [
      "\n"
     ]
    }
   ],
   "source": [
    "lines = read_file(\"14_input.txt\")\n",
    "lines\n",
    "\n",
    "arr = np.empty((len(lines), len(lines[0])), dtype=str)\n",
    "\n",
    "for i, line in enumerate(lines):\n",
    "    for j, char in enumerate(line):\n",
    "        arr[i, j] = char\n",
    "\n",
    "arrs = {}\n",
    "repeat_key = None\n",
    "\n",
    "for j in tqdm.tqdm(range(1000000000)):\n",
    "    arrs[j] = arr.copy()\n",
    "    if repeat_key is not None:\n",
    "        break\n",
    "\n",
    "    for i in range(4):\n",
    "        tilt(arr)\n",
    "        arr = np.rot90(arr, k=3)\n",
    "\n",
    "    for key in arrs:\n",
    "        if np.all(arrs[key] == arr):\n",
    "            repeat_key = key\n",
    "\n",
    "print(repeat_key, j)"
   ]
  },
  {
   "cell_type": "code",
   "execution_count": 34,
   "metadata": {},
   "outputs": [
    {
     "name": "stdout",
     "output_type": "stream",
     "text": [
      "95736\n"
     ]
    }
   ],
   "source": [
    "# Get 1e6th pattern\n",
    "key = repeat_key + (1_000_000_000 - repeat_key) % (j - repeat_key)\n",
    "arr_1e6 = arrs[key]\n",
    "print(total(arr_1e6))"
   ]
  },
  {
   "cell_type": "code",
   "execution_count": null,
   "metadata": {},
   "outputs": [],
   "source": []
  }
 ],
 "metadata": {
  "kernelspec": {
   "display_name": "py312",
   "language": "python",
   "name": "python3"
  },
  "language_info": {
   "codemirror_mode": {
    "name": "ipython",
    "version": 3
   },
   "file_extension": ".py",
   "mimetype": "text/x-python",
   "name": "python",
   "nbconvert_exporter": "python",
   "pygments_lexer": "ipython3",
   "version": "3.12.0"
  }
 },
 "nbformat": 4,
 "nbformat_minor": 2
}
