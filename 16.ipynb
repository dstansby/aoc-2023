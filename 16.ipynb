{
 "cells": [
  {
   "cell_type": "code",
   "execution_count": 124,
   "metadata": {},
   "outputs": [],
   "source": [
    "from lib import read_arr\n",
    "\n",
    "from enum import Enum\n",
    "\n",
    "import numpy as np\n",
    "from tqdm import tqdm"
   ]
  },
  {
   "cell_type": "code",
   "execution_count": 119,
   "metadata": {},
   "outputs": [],
   "source": [
    "arr = read_arr(\"16_input.txt\")"
   ]
  },
  {
   "cell_type": "code",
   "execution_count": 120,
   "metadata": {},
   "outputs": [],
   "source": [
    "Dir = Enum(\"Dir\", [\"Up\", \"Right\", \"Down\", \"Left\"])\n",
    "\n",
    "steps = {\n",
    "    Dir.Right: np.array([0, 1]),\n",
    "    Dir.Left: np.array([0, -1]),\n",
    "    Dir.Up: np.array([-1, 0]),\n",
    "    Dir.Down: np.array([1, 0])\n",
    "}\n"
   ]
  },
  {
   "cell_type": "code",
   "execution_count": 121,
   "metadata": {},
   "outputs": [],
   "source": [
    "def n_energised(start_dir, start_idx) -> int:\n",
    "    visited = {d: np.zeros(arr.shape, dtype=bool) for d in Dir}\n",
    "\n",
    "    def run_beam(idx, direct):\n",
    "        idx = idx.copy()\n",
    "\n",
    "        while True:\n",
    "            # Take a step\n",
    "            idx += steps[direct]\n",
    "            if any(i < 0 for i in idx) or idx[0] >= arr.shape[0] or idx[1] >= arr.shape[1]:\n",
    "                # Out of bounds\n",
    "                break\n",
    "            if visited[direct][tuple(idx)]:\n",
    "                # Alrady visited\n",
    "                break\n",
    "            \n",
    "            # Mark as visited\n",
    "            visited[direct][tuple(idx)] = 1\n",
    "            \n",
    "            \n",
    "            symbol = arr[tuple(idx)]\n",
    "            if symbol == \"|\" and direct in [Dir.Left, Dir.Right]:\n",
    "                run_beam(idx, Dir.Up)\n",
    "                run_beam(idx, Dir.Down)\n",
    "                break\n",
    "            elif symbol == \"-\" and direct in [Dir.Up, Dir.Down]:\n",
    "                run_beam(idx, Dir.Right)\n",
    "                run_beam(idx, Dir.Left)\n",
    "                break\n",
    "            elif symbol == \"/\":\n",
    "                match direct:\n",
    "                    case Dir.Up:\n",
    "                        run_beam(idx, Dir.Right)\n",
    "                    case Dir.Down:\n",
    "                        run_beam(idx, Dir.Left)\n",
    "                    case Dir.Left:\n",
    "                        run_beam(idx, Dir.Down)\n",
    "                    case Dir.Right:\n",
    "                        run_beam(idx, Dir.Up)\n",
    "                break\n",
    "            elif symbol == \"\\\\\":\n",
    "                match direct:\n",
    "                    case Dir.Up:\n",
    "                        run_beam(idx, Dir.Left)\n",
    "                    case Dir.Down:\n",
    "                        run_beam(idx, Dir.Right)\n",
    "                    case Dir.Left:\n",
    "                        run_beam(idx, Dir.Up)\n",
    "                    case Dir.Right:\n",
    "                        run_beam(idx, Dir.Down)\n",
    "                break\n",
    "                            \n",
    "\n",
    "\n",
    "    visited[start_dir][tuple(start_idx)] = 1\n",
    "    run_beam(start_idx, start_dir)\n",
    "\n",
    "\n",
    "    all_visited = list(visited.values())[0]\n",
    "    for val in visited.values():\n",
    "        all_visited = all_visited | val\n",
    "\n",
    "    return np.sum(all_visited)\n"
   ]
  },
  {
   "cell_type": "code",
   "execution_count": 122,
   "metadata": {},
   "outputs": [
    {
     "data": {
      "text/plain": [
       "(110, 110)"
      ]
     },
     "execution_count": 122,
     "metadata": {},
     "output_type": "execute_result"
    }
   ],
   "source": [
    "arr.shape"
   ]
  },
  {
   "cell_type": "code",
   "execution_count": 126,
   "metadata": {},
   "outputs": [
    {
     "name": "stderr",
     "output_type": "stream",
     "text": [
      "100%|██████████| 110/110 [00:02<00:00, 47.72it/s]\n",
      "100%|██████████| 110/110 [00:02<00:00, 44.33it/s]\n",
      "100%|██████████| 110/110 [00:02<00:00, 36.79it/s]\n",
      "100%|██████████| 110/110 [00:02<00:00, 48.31it/s]\n"
     ]
    },
    {
     "data": {
      "text/plain": [
       "8183"
      ]
     },
     "execution_count": 126,
     "metadata": {},
     "output_type": "execute_result"
    }
   ],
   "source": [
    "max_energ = 0\n",
    "# Top row\n",
    "for i in tqdm(range(arr.shape[0])):\n",
    "    n = n_energised(Dir.Right, np.array([i, 0]))\n",
    "    max_energ = max(max_energ, n)\n",
    "\n",
    "# Bottom row\n",
    "for i in tqdm(range(arr.shape[0])):\n",
    "    n = n_energised(Dir.Left, np.array([i, arr.shape[1] - 1]))\n",
    "    max_energ = max(max_energ, n)\n",
    "\n",
    "# Left row\n",
    "for i in tqdm(range(arr.shape[1])):\n",
    "    n = n_energised(Dir.Down, np.array([0, i]))\n",
    "    max_energ = max(max_energ, n)\n",
    "\n",
    "# Right row\n",
    "for i in tqdm(range(arr.shape[1])):\n",
    "    n = n_energised(Dir.Up, np.array([arr.shape[0] - 1, i]))\n",
    "    max_energ = max(max_energ, n)\n",
    "\n",
    "max_energ"
   ]
  }
 ],
 "metadata": {
  "kernelspec": {
   "display_name": "py312",
   "language": "python",
   "name": "python3"
  },
  "language_info": {
   "codemirror_mode": {
    "name": "ipython",
    "version": 3
   },
   "file_extension": ".py",
   "mimetype": "text/x-python",
   "name": "python",
   "nbconvert_exporter": "python",
   "pygments_lexer": "ipython3",
   "version": "3.12.0"
  }
 },
 "nbformat": 4,
 "nbformat_minor": 2
}
