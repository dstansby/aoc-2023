{
 "cells": [
  {
   "cell_type": "code",
   "execution_count": 57,
   "metadata": {},
   "outputs": [],
   "source": [
    "from lib import read_file\n",
    "\n",
    "from dataclasses import dataclass\n",
    "from functools import cached_property\n"
   ]
  },
  {
   "cell_type": "code",
   "execution_count": 50,
   "metadata": {},
   "outputs": [],
   "source": [
    "lines = read_file(\"4_example.txt\")\n",
    "lines = [l.split(\":\")[1] for l in lines]\n",
    "lines = [l.split(\"|\") for l in lines]\n"
   ]
  },
  {
   "cell_type": "markdown",
   "metadata": {},
   "source": [
    "# Part 1"
   ]
  },
  {
   "cell_type": "code",
   "execution_count": 51,
   "metadata": {},
   "outputs": [],
   "source": [
    "@dataclass\n",
    "class Card:\n",
    "    winning: list[int]\n",
    "    picked: list[int]\n",
    "    number: int = 1\n",
    "\n",
    "    @cached_property\n",
    "    def n_wins(self) -> int:\n",
    "        return sum(p in self.winning for p in self.picked)\n",
    "\n",
    "    @cached_property\n",
    "    def score(self) -> int:\n",
    "        if wins := self.n_wins():\n",
    "            return 2**(wins - 1)\n",
    "        return 0\n",
    "\n",
    "\n",
    "winning_nos = [l[0].strip().split() for l in lines]\n",
    "picked_nos = [l[1].strip().split() for l in lines]\n",
    "\n",
    "cards = [Card(w, p) for w, p in zip(winning_nos, picked_nos)]\n"
   ]
  },
  {
   "cell_type": "code",
   "execution_count": 52,
   "metadata": {},
   "outputs": [
    {
     "data": {
      "text/plain": [
       "13"
      ]
     },
     "execution_count": 52,
     "metadata": {},
     "output_type": "execute_result"
    }
   ],
   "source": [
    "total = sum(c.score() for c in cards)\n",
    "total\n"
   ]
  },
  {
   "cell_type": "markdown",
   "metadata": {},
   "source": [
    "# Part 2"
   ]
  },
  {
   "cell_type": "code",
   "execution_count": 56,
   "metadata": {},
   "outputs": [
    {
     "name": "stdout",
     "output_type": "stream",
     "text": [
      "0\n",
      "4\n"
     ]
    },
    {
     "data": {
      "text/plain": [
       "[Card(winning=['41', '48', '83', '86', '17'], picked=['83', '86', '6', '31', '17', '9', '48', '53'], number=1),\n",
       " Card(winning=['13', '32', '20', '16', '61'], picked=['61', '30', '68', '82', '17', '32', '24', '19'], number=2),\n",
       " Card(winning=['1', '21', '53', '59', '44'], picked=['69', '82', '63', '72', '16', '21', '14', '1'], number=2),\n",
       " Card(winning=['41', '92', '73', '84', '69'], picked=['59', '84', '76', '51', '58', '5', '54', '83'], number=2),\n",
       " Card(winning=['87', '83', '26', '28', '32'], picked=['88', '30', '70', '12', '93', '22', '82', '36'], number=2),\n",
       " Card(winning=['31', '18', '13', '56', '72'], picked=['74', '77', '10', '23', '35', '67', '36', '11'], number=1)]"
      ]
     },
     "execution_count": 56,
     "metadata": {},
     "output_type": "execute_result"
    }
   ],
   "source": [
    "cards = [Card(w, p) for w, p in zip(winning_nos, picked_nos)]\n",
    "\n",
    "for i, card in enumerate(cards):\n",
    "    print(i)\n",
    "    print(card.n_wins())\n",
    "    for j in range(\n",
    "        i + 1,\n",
    "        i + 1 + card.n_wins()\n",
    "    ):\n",
    "        cards[j].number += card.\n",
    "\n",
    "    break\n",
    "\n",
    "cards\n"
   ]
  },
  {
   "cell_type": "code",
   "execution_count": null,
   "metadata": {},
   "outputs": [],
   "source": []
  }
 ],
 "metadata": {
  "kernelspec": {
   "display_name": "py312",
   "language": "python",
   "name": "python3"
  },
  "language_info": {
   "codemirror_mode": {
    "name": "ipython",
    "version": 3
   },
   "file_extension": ".py",
   "mimetype": "text/x-python",
   "name": "python",
   "nbconvert_exporter": "python",
   "pygments_lexer": "ipython3",
   "version": "3.12.0"
  }
 },
 "nbformat": 4,
 "nbformat_minor": 2
}
