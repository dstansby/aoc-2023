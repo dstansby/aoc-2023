{
 "cells": [
  {
   "cell_type": "code",
   "execution_count": 49,
   "metadata": {},
   "outputs": [],
   "source": [
    "from lib import read_file\n",
    "\n",
    "import numpy as np\n",
    "\n",
    "from dataclasses import dataclass"
   ]
  },
  {
   "cell_type": "code",
   "execution_count": 67,
   "metadata": {},
   "outputs": [
    {
     "data": {
      "text/plain": [
       "array([['F', '-', 'F', ..., '7', 'F', '-'],\n",
       "       ['L', 'J', '|', ..., 'F', '-', 'J'],\n",
       "       ['L', '.', '|', ..., 'L', '-', '|'],\n",
       "       ...,\n",
       "       ['-', '|', '-', ..., 'F', 'F', 'F'],\n",
       "       ['L', 'L', '.', ..., '-', '-', 'J'],\n",
       "       ['L', 'J', '-', ..., 'J', 'F', 'J']], dtype='<U1')"
      ]
     },
     "execution_count": 67,
     "metadata": {},
     "output_type": "execute_result"
    }
   ],
   "source": [
    "lines = read_file(\"10_input.txt\")\n",
    "arr = np.empty(shape=(len(lines), len(lines[0])), dtype=str)\n",
    "for i in range(len(lines)):\n",
    "    for j in range(len(lines[0])):\n",
    "        arr[i, j] = lines[i][j]\n",
    "\n",
    "arr"
   ]
  },
  {
   "cell_type": "code",
   "execution_count": 68,
   "metadata": {},
   "outputs": [
    {
     "data": {
      "text/plain": [
       "(63, 62)"
      ]
     },
     "execution_count": 68,
     "metadata": {},
     "output_type": "execute_result"
    }
   ],
   "source": [
    "start_idx = np.where(arr == \"S\")\n",
    "start_idx = tuple(a[0] for a in start_idx)\n",
    "start_idx"
   ]
  },
  {
   "cell_type": "code",
   "execution_count": 69,
   "metadata": {},
   "outputs": [],
   "source": [
    "def find_connected_pipes(arr, idx: tuple[int, int]) -> list[tuple[int, int]]:\n",
    "    connected_idxs = []\n",
    "    # Above\n",
    "    if arr[idx[0] - 1, idx[1]] in [\"|\", \"7\", \"F\"]:\n",
    "        connected_idxs.append((idx[0] - 1, idx[1]))\n",
    "    # Right\n",
    "    if arr[idx[0], idx[1] + 1] in [\"-\", \"7\", \"J\"]:\n",
    "        connected_idxs.append((idx[0], idx[1] + 1))\n",
    "    # Below\n",
    "    if arr[idx[0] + 1, idx[1]] in [\"|\", \"L\", \"J\"]:\n",
    "        connected_idxs.append((idx[0] + 1, idx[1]))\n",
    "    # Left\n",
    "    if arr[idx[0], idx[1] - 1] in [\"-\", \"F\", \"L\"]:\n",
    "        connected_idxs.append((idx[0], idx[1] - 1))\n",
    "\n",
    "    return connected_idxs"
   ]
  },
  {
   "cell_type": "code",
   "execution_count": 94,
   "metadata": {},
   "outputs": [],
   "source": [
    "connected = find_connected_pipes(arr, start_idx)\n",
    "\n",
    "North = np.array((-1, 0), dtype=int)\n",
    "South = np.array((1, 0), dtype=int)\n",
    "East = np.array((0, 1), dtype=int)\n",
    "West = np.array((0, -1), dtype=int)\n",
    "\n",
    "pipe_mapping = {\n",
    "        \"|\": (North, South),\n",
    "        \"-\": (East, West),\n",
    "        \"L\": (North, East),\n",
    "        \"J\": (North, West),\n",
    "        \"7\": (South, West),\n",
    "        \"F\": (South, East),\n",
    "    }\n",
    "\n",
    "@dataclass\n",
    "class Route:\n",
    "    current_idx: tuple[int, int]\n",
    "    previous_idx: tuple[int, int]\n",
    "    nsteps: int\n",
    "\n",
    "    def take_step(self, arr, arr_numeric=None):\n",
    "        symbol = arr[tuple(self.current_idx)]\n",
    "        steps = pipe_mapping[symbol]\n",
    "        for s in steps:\n",
    "            if not np.all((new_idx := (self.current_idx + s)) == self.previous_idx):\n",
    "                self.previous_idx = self.current_idx\n",
    "                self.current_idx = new_idx\n",
    "                self.nsteps += 1\n",
    "\n",
    "                if arr_numeric is not None:\n",
    "                    # Mark path\n",
    "                    arr_numeric[tuple(self.current_idx)] = -1\n",
    "\n",
    "                    for check_idx in [self.previous_idx, self.current_idx]:\n",
    "                        if np.all((self.previous_idx - self.current_idx) == North):\n",
    "                            idx = tuple(check_idx + East)\n",
    "                            if arr_numeric[idx] == 0:\n",
    "                                arr_numeric[idx] = 2\n",
    "                            idx = tuple(check_idx + West)\n",
    "                            if arr_numeric[idx] == 0:\n",
    "                                arr_numeric[idx] = 4\n",
    "\n",
    "                        elif np.all((self.previous_idx - self.current_idx) == South):\n",
    "                            idx = tuple(check_idx + East)\n",
    "                            if arr_numeric[idx] == 0:\n",
    "                                arr_numeric[idx] = 4\n",
    "                            idx = tuple(check_idx + West)\n",
    "                            if arr_numeric[idx] == 0:\n",
    "                                arr_numeric[idx] = 2\n",
    "\n",
    "                        elif np.all((self.previous_idx - self.current_idx) == East):\n",
    "                            idx = tuple(check_idx + North)\n",
    "                            if arr_numeric[idx] == 0:\n",
    "                                arr_numeric[idx] = 4\n",
    "                            idx = tuple(check_idx + South)\n",
    "                            if arr_numeric[idx] == 0:\n",
    "                                arr_numeric[idx] = 2\n",
    "\n",
    "                        elif np.all((self.previous_idx - self.current_idx) == West):\n",
    "                            idx = tuple(check_idx + North)\n",
    "                            if arr_numeric[idx] == 0:\n",
    "                                arr_numeric[idx] = 2\n",
    "                            idx = tuple(check_idx + South)\n",
    "                            if arr_numeric[idx] == 0:\n",
    "                                arr_numeric[idx] = 4\n",
    "\n",
    "                break\n",
    "                \n"
   ]
  },
  {
   "cell_type": "code",
   "execution_count": 95,
   "metadata": {},
   "outputs": [
    {
     "data": {
      "text/plain": [
       "7093"
      ]
     },
     "execution_count": 95,
     "metadata": {},
     "output_type": "execute_result"
    }
   ],
   "source": [
    "route1 = Route(connected[0], start_idx, 1)\n",
    "route2 = Route(connected[1], start_idx, 1)\n",
    "\n",
    "\n",
    "while True:\n",
    "    if (\n",
    "            np.all(route1.current_idx == route2.current_idx) or\n",
    "            np.all(route1.previous_idx == route2.current_idx)\n",
    "        ):\n",
    "        break\n",
    "\n",
    "    route1.take_step(arr)\n",
    "    route2.take_step(arr)\n",
    "\n",
    "max(route1.nsteps, route2.nsteps)\n"
   ]
  },
  {
   "cell_type": "markdown",
   "metadata": {},
   "source": [
    "# Part 2"
   ]
  },
  {
   "cell_type": "code",
   "execution_count": 110,
   "metadata": {},
   "outputs": [
    {
     "data": {
      "text/plain": [
       "array([[0., 0., 0., ..., 0., 0., 0.],\n",
       "       [0., 0., 0., ..., 0., 0., 0.],\n",
       "       [0., 0., 0., ..., 0., 0., 0.],\n",
       "       ...,\n",
       "       [0., 0., 0., ..., 0., 0., 0.],\n",
       "       [0., 0., 0., ..., 0., 0., 0.],\n",
       "       [0., 0., 0., ..., 0., 0., 0.]])"
      ]
     },
     "execution_count": 110,
     "metadata": {},
     "output_type": "execute_result"
    }
   ],
   "source": [
    "lines = read_file(\"10_input.txt\")\n",
    "arr = np.empty(shape=(len(lines), len(lines[0])), dtype=str)\n",
    "for i in range(len(lines)):\n",
    "    for j in range(len(lines[0])):\n",
    "        arr[i, j] = lines[i][j]\n",
    "\n",
    "arr = np.pad(arr, pad_width=((1, 1), (1, 1)), constant_values='.')\n",
    "\n",
    "\n",
    "start_idx = np.where(arr == \"S\")\n",
    "start_idx = tuple(a[0] for a in start_idx)\n",
    "connected = find_connected_pipes(arr, start_idx)\n",
    "\n",
    "arr_numeric = np.zeros(arr.shape)\n",
    "\n",
    "# Only take a single route\n",
    "route1 = Route(connected[0], start_idx, 1)\n",
    "arr_numeric[connected[0]] = -1\n",
    "\n",
    "while True:\n",
    "    if arr[tuple(route1.current_idx)] == \"S\":\n",
    "        break\n",
    "\n",
    "    route1.take_step(arr, arr_numeric)\n",
    "\n",
    "# \n",
    "arr_numeric"
   ]
  },
  {
   "cell_type": "code",
   "execution_count": 112,
   "metadata": {},
   "outputs": [
    {
     "data": {
      "text/plain": [
       "407"
      ]
     },
     "execution_count": 112,
     "metadata": {},
     "output_type": "execute_result"
    },
    {
     "data": {
      "image/png": "[encoded data removed]",
      "text/plain": [
       "<Figure size 1200x1200 with 1 Axes>"
      ]
     },
     "metadata": {},
     "output_type": "display_data"
    }
   ],
   "source": [
    "import matplotlib.pyplot as plt\n",
    "from skimage.segmentation import flood_fill\n",
    "\n",
    "arr_numeric = flood_fill(arr_numeric, (70, 70), new_value=2)\n",
    "\n",
    "fig = plt.figure(figsize=(12, 12))\n",
    "plt.imshow(arr_numeric)\n",
    "\n",
    "np.sum(arr_numeric == 2)"
   ]
  },
  {
   "cell_type": "code",
   "execution_count": null,
   "metadata": {},
   "outputs": [],
   "source": []
  }
 ],
 "metadata": {
  "kernelspec": {
   "display_name": "py312",
   "language": "python",
   "name": "python3"
  },
  "language_info": {
   "codemirror_mode": {
    "name": "ipython",
    "version": 3
   },
   "file_extension": ".py",
   "mimetype": "text/x-python",
   "name": "python",
   "nbconvert_exporter": "python",
   "pygments_lexer": "ipython3",
   "version": "3.12.0"
  }
 },
 "nbformat": 4,
 "nbformat_minor": 2
}
