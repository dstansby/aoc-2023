{
 "cells": [
  {
   "cell_type": "code",
   "execution_count": 21,
   "metadata": {},
   "outputs": [],
   "source": [
    "from lib import read_file\n",
    "\n",
    "from collections import defaultdict\n"
   ]
  },
  {
   "cell_type": "code",
   "execution_count": 5,
   "metadata": {},
   "outputs": [
    {
     "data": {
      "text/plain": [
       "['Game 1: 3 blue, 4 red; 1 red, 2 green, 6 blue; 2 green',\n",
       " 'Game 2: 1 blue, 2 green; 3 green, 4 blue, 1 red; 1 green, 1 blue',\n",
       " 'Game 3: 8 green, 6 blue, 20 red; 5 blue, 4 red, 13 green; 5 green, 1 red',\n",
       " 'Game 4: 1 green, 3 red, 6 blue; 3 green, 6 red; 3 green, 15 blue, 14 red',\n",
       " 'Game 5: 6 red, 1 blue, 3 green; 2 blue, 1 red, 2 green']"
      ]
     },
     "execution_count": 5,
     "metadata": {},
     "output_type": "execute_result"
    }
   ],
   "source": [
    "read_file(\"2_example.txt\")\n"
   ]
  },
  {
   "cell_type": "markdown",
   "metadata": {},
   "source": [
    "# Part 1"
   ]
  },
  {
   "cell_type": "code",
   "execution_count": 34,
   "metadata": {},
   "outputs": [
    {
     "name": "stdout",
     "output_type": "stream",
     "text": [
      "2486\n"
     ]
    }
   ],
   "source": [
    "id_sum = 0\n",
    "contents = {\"red\": 12, \"green\": 13, \"blue\": 14}\n",
    "\n",
    "\n",
    "for line in read_file(\"2_input.txt\"):\n",
    "    id = int(line.split(\" \")[1].rstrip(\":\"))\n",
    "    games = line.split(\":\")[1].strip().split(\";\")\n",
    "    games = [game.strip() for game in games]\n",
    "    \n",
    "    max_cubes = defaultdict(lambda: 0)\n",
    "    for game in games:\n",
    "        pulls = game.split(\",\")\n",
    "        pulls = [p.strip() for p in pulls]\n",
    "        for pull in pulls:\n",
    "            n_cubes, color = pull.split()\n",
    "            n_cubes = int(n_cubes)\n",
    "\n",
    "            max_cubes[color] = max(max_cubes[color], n_cubes)\n",
    "\n",
    "    # Compae against expected contents\n",
    "    if all(max_cubes[key] <= contents[key] for key in contents):\n",
    "        id_sum += id\n",
    "\n",
    "print(id_sum)\n"
   ]
  },
  {
   "cell_type": "markdown",
   "metadata": {},
   "source": [
    "# Part 2"
   ]
  },
  {
   "cell_type": "code",
   "execution_count": 46,
   "metadata": {},
   "outputs": [
    {
     "name": "stdout",
     "output_type": "stream",
     "text": [
      "87984\n"
     ]
    }
   ],
   "source": [
    "total_power = 0\n",
    "\n",
    "for line in read_file(\"2_input.txt\"):\n",
    "    id = int(line.split(\" \")[1].rstrip(\":\"))\n",
    "    games = line.split(\":\")[1].strip().split(\";\")\n",
    "    games = [game.strip() for game in games]\n",
    "    \n",
    "    min_cubes = defaultdict(lambda: 0)\n",
    "\n",
    "    for game in games:\n",
    "\n",
    "        pulls = game.split(\",\")\n",
    "        pulls = [p.strip() for p in pulls]\n",
    "        for pull in pulls:\n",
    "            n_cubes, color = pull.split()\n",
    "            n_cubes = int(n_cubes)\n",
    "\n",
    "            min_cubes[color] = max(min_cubes[color], n_cubes)\n",
    "\n",
    "    power = 1\n",
    "    for key in min_cubes:\n",
    "        power *= min_cubes[key]\n",
    "\n",
    "    total_power += power\n",
    "\n",
    "print(total_power)\n"
   ]
  },
  {
   "cell_type": "code",
   "execution_count": null,
   "metadata": {},
   "outputs": [],
   "source": []
  }
 ],
 "metadata": {
  "kernelspec": {
   "display_name": "py312",
   "language": "python",
   "name": "python3"
  },
  "language_info": {
   "codemirror_mode": {
    "name": "ipython",
    "version": 3
   },
   "file_extension": ".py",
   "mimetype": "text/x-python",
   "name": "python",
   "nbconvert_exporter": "python",
   "pygments_lexer": "ipython3",
   "version": "3.12.0"
  }
 },
 "nbformat": 4,
 "nbformat_minor": 2
}
