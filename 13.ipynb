{
 "cells": [
  {
   "cell_type": "code",
   "execution_count": 150,
   "metadata": {},
   "outputs": [],
   "source": [
    "from lib import read_file\n",
    "\n",
    "import numpy as np\n",
    "import matplotlib.pyplot as plt"
   ]
  },
  {
   "cell_type": "code",
   "execution_count": 204,
   "metadata": {},
   "outputs": [],
   "source": [
    "def find_mirror(arr, ignore=-1):\n",
    "    for i in range(1, arr.shape[0] // 2 + 1):\n",
    "        if np.all(arr[:i] == arr[i:2*i][::-1, :]):\n",
    "            if i != ignore:\n",
    "                return i\n",
    "        \n",
    "        # Work up from bottom\n",
    "        if np.all(arr[-i:] == arr[-2*i:-i][::-1, :]):\n",
    "            if arr.shape[0] - i != ignore:\n",
    "                return arr.shape[0] - i\n",
    "        \n",
    "    return None\n"
   ]
  },
  {
   "cell_type": "code",
   "execution_count": 205,
   "metadata": {},
   "outputs": [
    {
     "data": {
      "text/plain": [
       "32723"
      ]
     },
     "execution_count": 205,
     "metadata": {},
     "output_type": "execute_result"
    }
   ],
   "source": [
    "lines = read_file(\"13_input.txt\")\n",
    "\n",
    "\n",
    "def run(grid_lines) -> int:\n",
    "    arr = np.empty((len(grid_lines), len(grid_lines[0])), dtype=int)\n",
    "\n",
    "    for i, line in enumerate(grid_lines):\n",
    "        for j, char in enumerate(line):\n",
    "            arr[i, j] = char == \"#\"\n",
    "\n",
    "    cut = find_mirror(arr.T)\n",
    "    if cut is None:\n",
    "        cut = find_mirror(arr)\n",
    "        if cut is None:\n",
    "            raise RuntimeError(\"No cut\")\n",
    "        else:\n",
    "            cut *= 100\n",
    "\n",
    "    return cut\n",
    "\n",
    "total = 0\n",
    "grid_lines = []\n",
    "\n",
    "for line in lines:\n",
    "    if line != \"\":\n",
    "        grid_lines.append(line)\n",
    "    else:\n",
    "        total += run(grid_lines)\n",
    "        grid_lines = []\n",
    "\n",
    "# One more puzzle at end\n",
    "total += run(grid_lines)\n",
    "    \n",
    "total\n"
   ]
  },
  {
   "cell_type": "code",
   "execution_count": 206,
   "metadata": {},
   "outputs": [
    {
     "data": {
      "text/plain": [
       "34536"
      ]
     },
     "execution_count": 206,
     "metadata": {},
     "output_type": "execute_result"
    }
   ],
   "source": [
    "# Part 2\n",
    "lines = read_file(\"13_input.txt\")\n",
    "\n",
    "\n",
    "def find_cut(arr, ignore=-1):\n",
    "    cut = find_mirror(arr.T, ignore=ignore)\n",
    "    if cut is not None:\n",
    "        return cut\n",
    "    \n",
    "    cut = find_mirror(arr, ignore=ignore)\n",
    "    if cut is not None:\n",
    "        return cut * 100\n",
    "    \n",
    "    return None\n",
    "\n",
    "def run(grid_lines) -> int:\n",
    "    arr = np.empty((len(grid_lines), len(grid_lines[0])), dtype=int)\n",
    "\n",
    "    for i, line in enumerate(grid_lines):\n",
    "        for j, char in enumerate(line):\n",
    "            arr[i, j] = char == \"#\"\n",
    "\n",
    "    old_cut = find_cut(arr)\n",
    "\n",
    "    for i in range(arr.shape[0]):\n",
    "        for j in range(arr.shape[1]):\n",
    "            \n",
    "            arr[i, j] = 0 if arr[i, j] == 1 else 1\n",
    "\n",
    "            cut = find_mirror(arr.T, ignore=old_cut)\n",
    "            if cut is not None:\n",
    "                return cut\n",
    "            \n",
    "            cut = find_mirror(arr, ignore=old_cut // 100)\n",
    "            if cut is not None:\n",
    "                return cut * 100\n",
    "                \n",
    "            # Reset value\n",
    "            arr[i, j] = 0 if arr[i, j] == 1 else 1\n",
    "\n",
    "    # plt.imshow(arr)\n",
    "\n",
    "total = 0\n",
    "grid_lines = []\n",
    "\n",
    "for line in lines:\n",
    "    if line != \"\":\n",
    "        grid_lines.append(line)\n",
    "    else:\n",
    "        n = run(grid_lines)\n",
    "        total += n\n",
    "        grid_lines = []\n",
    "\n",
    "# One more puzzle at end\n",
    "total += run(grid_lines)\n",
    "    \n",
    "total\n"
   ]
  },
  {
   "cell_type": "code",
   "execution_count": null,
   "metadata": {},
   "outputs": [],
   "source": []
  }
 ],
 "metadata": {
  "kernelspec": {
   "display_name": "py312",
   "language": "python",
   "name": "python3"
  },
  "language_info": {
   "codemirror_mode": {
    "name": "ipython",
    "version": 3
   },
   "file_extension": ".py",
   "mimetype": "text/x-python",
   "name": "python",
   "nbconvert_exporter": "python",
   "pygments_lexer": "ipython3",
   "version": "3.12.0"
  }
 },
 "nbformat": 4,
 "nbformat_minor": 2
}
