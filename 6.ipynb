{
 "cells": [
  {
   "cell_type": "code",
   "execution_count": 1,
   "metadata": {},
   "outputs": [],
   "source": [
    "from lib import read_file\n"
   ]
  },
  {
   "cell_type": "code",
   "execution_count": 14,
   "metadata": {},
   "outputs": [
    {
     "data": {
      "text/plain": [
       "([55, 82, 64, 90], [246, 1441, 1012, 1111])"
      ]
     },
     "execution_count": 14,
     "metadata": {},
     "output_type": "execute_result"
    }
   ],
   "source": [
    "lines = read_file(\"6_input.txt\")\n",
    "times = list(map(int, lines[0].split(\":\")[1].split()))\n",
    "distances = list(map(int, lines[1].split(\":\")[1].split()))\n",
    "times, distances\n"
   ]
  },
  {
   "cell_type": "code",
   "execution_count": 15,
   "metadata": {},
   "outputs": [
    {
     "data": {
      "text/plain": [
       "608902"
      ]
     },
     "execution_count": 15,
     "metadata": {},
     "output_type": "execute_result"
    }
   ],
   "source": [
    "result = 1\n",
    "for total_time, record_distance in zip(times, distances):\n",
    "    n_ways = 0\n",
    "    for t in range(total_time):\n",
    "        speed = t\n",
    "        remaining_time = total_time - t\n",
    "        distance = speed * remaining_time\n",
    "        if distance > record_distance:\n",
    "            n_ways += 1\n",
    "    result *= n_ways\n",
    "\n",
    "result\n"
   ]
  },
  {
   "cell_type": "markdown",
   "metadata": {},
   "source": [
    "# Part 2"
   ]
  },
  {
   "cell_type": "code",
   "execution_count": 40,
   "metadata": {},
   "outputs": [
    {
     "data": {
      "text/plain": [
       "(55826490, 246144110121111)"
      ]
     },
     "execution_count": 40,
     "metadata": {},
     "output_type": "execute_result"
    }
   ],
   "source": [
    "lines = read_file(\"6_input.txt\")\n",
    "time = int(lines[0].split(\":\")[1].replace(\" \", \"\"))\n",
    "distance = int(lines[1].split(\":\")[1].replace(\" \", \"\"))\n",
    "time, distance\n"
   ]
  },
  {
   "cell_type": "code",
   "execution_count": 41,
   "metadata": {},
   "outputs": [
    {
     "data": {
      "text/plain": [
       "'\\ndistance = (t_tot - t0) * t0\\n\\nsolve\\nt0**2 - t_tot*t0 + distance = 0\\n\\nSolutions: t0 = 51000100, 4826340\\n'"
      ]
     },
     "execution_count": 41,
     "metadata": {},
     "output_type": "execute_result"
    }
   ],
   "source": [
    "\"\"\"\n",
    "distance = (t_tot - t0) * t0\n",
    "\n",
    "solve\n",
    "t0**2 - t_tot*t0 + distance = 0\n",
    "\n",
    "Solutions: t0 = 51000100, 4826340\n",
    "\"\"\"\n"
   ]
  },
  {
   "cell_type": "code",
   "execution_count": 42,
   "metadata": {},
   "outputs": [
    {
     "name": "stdout",
     "output_type": "stream",
     "text": [
      "46173809.0\n"
     ]
    }
   ],
   "source": [
    "import numpy as np\n",
    "\n",
    "roots = np.roots([1, -time, distance])\n",
    "print(np.floor(max(roots)) - np.ceil(min(roots)) + 1)\n"
   ]
  },
  {
   "cell_type": "code",
   "execution_count": null,
   "metadata": {},
   "outputs": [],
   "source": []
  }
 ],
 "metadata": {
  "kernelspec": {
   "display_name": "py312",
   "language": "python",
   "name": "python3"
  },
  "language_info": {
   "codemirror_mode": {
    "name": "ipython",
    "version": 3
   },
   "file_extension": ".py",
   "mimetype": "text/x-python",
   "name": "python",
   "nbconvert_exporter": "python",
   "pygments_lexer": "ipython3",
   "version": "3.12.0"
  }
 },
 "nbformat": 4,
 "nbformat_minor": 2
}
