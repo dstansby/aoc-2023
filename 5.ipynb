{
 "cells": [
  {
   "cell_type": "code",
   "execution_count": 269,
   "metadata": {},
   "outputs": [],
   "source": [
    "from lib import read_file\n",
    "\n",
    "from dataclasses import dataclass\n",
    "\n",
    "from functools import cached_property\n"
   ]
  },
  {
   "cell_type": "code",
   "execution_count": 273,
   "metadata": {},
   "outputs": [],
   "source": [
    "@dataclass\n",
    "class Range:\n",
    "    start: int\n",
    "    length: int\n",
    "\n",
    "    @cached_property\n",
    "    def end(self) -> int:\n",
    "        return self.start + self.length\n",
    "\n",
    "@dataclass\n",
    "class RangeMap:\n",
    "    dest_start: int\n",
    "    source_start: int\n",
    "    length: int\n",
    "\n",
    "    @cached_property\n",
    "    def source_end(self) -> int:\n",
    "        return self.source_start + self.length\n",
    "    \n",
    "    @cached_property\n",
    "    def offset(self) -> int:\n",
    "        return self.dest_start - self.source_start\n",
    "\n",
    "    def __contains__(self, value: int | Range) -> bool:\n",
    "        if isinstance(value, int):\n",
    "            return self.source_start <= value < self.source_end\n",
    "        else:\n",
    "            return (not (value.end <= self.source_start or value.start >= self.source_end))\n",
    "    \n",
    "    def map_value(self, value: int) -> int:\n",
    "        return self.dest_start + (value - self.source_start)\n",
    "    \n",
    "    def map_range(self, range: Range) -> list[Range]:\n",
    "        \"\"\"\n",
    "        Map a range. In general this can result in up to three\n",
    "        new ranges, on below the source range, one within the\n",
    "        source range, and one above the source range.\n",
    "        \"\"\"\n",
    "        ranges = []\n",
    "        if range.start < self.source_start:\n",
    "            # Have a range below the source range\n",
    "            start = range.start\n",
    "            end = min(range.end, self.source_start)\n",
    "            ranges.append(Range(start, end - start))\n",
    "        if range.end > self.source_end:\n",
    "            # Have a range above the source range\n",
    "            start = max(range.start, self.source_end)\n",
    "            end = range.end\n",
    "            ranges.append(Range(start, end - start))\n",
    "        if (range.end >= self.source_start and range.start < self.source_end):\n",
    "            # Have a range within the source range\n",
    "            start = max(range.start, self.source_start) + self.offset\n",
    "            end = min(range.end, self.source_end) + self.offset\n",
    "            ranges.append(Range(start, end - start))\n",
    "\n",
    "        return ranges\n",
    "\n",
    "@dataclass\n",
    "class Map:\n",
    "    \"\"\"\n",
    "    Stores a number of range maps between a given source and destination.\n",
    "    \"\"\"\n",
    "    source: str\n",
    "    dest: str\n",
    "\n",
    "    ranges: list[RangeMap]\n",
    "\n",
    "    def map(self, value: int) -> int:\n",
    "        for range in self.ranges:\n",
    "            if value in range:\n",
    "                return range.map_value(value)\n",
    "            \n",
    "        return value\n"
   ]
  },
  {
   "cell_type": "code",
   "execution_count": 276,
   "metadata": {},
   "outputs": [
    {
     "data": {
      "text/plain": [
       "False"
      ]
     },
     "execution_count": 276,
     "metadata": {},
     "output_type": "execute_result"
    }
   ],
   "source": [
    "Range(10, 1) in RangeMap(0, 0, 10)\n"
   ]
  },
  {
   "cell_type": "code",
   "execution_count": 277,
   "metadata": {},
   "outputs": [],
   "source": [
    "lines = read_file(\"5_input.txt\")\n",
    "\n",
    "# Get seeds\n",
    "seeds = list(map(int, lines[0].split(\":\")[1].strip().split()))\n",
    "lines = lines[2:][::-1]\n",
    "maps: dict[str, Map] = {}\n",
    "\n",
    "# Get maps\n",
    "while lines:\n",
    "    line = lines.pop()\n",
    "    if 'map' in line:\n",
    "        source = line.split('-')[0]\n",
    "        dest = line.split('-')[2].split()[0]\n",
    "        m = Map(source, dest, [])\n",
    "    elif line != \"\":\n",
    "        m.ranges.append(RangeMap(*list(map(int, line.split()))))\n",
    "    elif line == \"\":\n",
    "        maps[source] = m\n",
    "\n",
    "maps[source] = m\n"
   ]
  },
  {
   "cell_type": "code",
   "execution_count": 278,
   "metadata": {},
   "outputs": [],
   "source": [
    "def get_loc(value: int) -> int:\n",
    "    m = maps[\"seed\"]\n",
    "    dest = m.dest\n",
    "\n",
    "    while True:\n",
    "        value = m.map(value)\n",
    "        if dest not in maps:\n",
    "            break\n",
    "        m = maps[dest]\n",
    "        dest = m.dest\n",
    "\n",
    "    return value\n"
   ]
  },
  {
   "cell_type": "code",
   "execution_count": 279,
   "metadata": {},
   "outputs": [
    {
     "data": {
      "text/plain": [
       "173706076"
      ]
     },
     "execution_count": 279,
     "metadata": {},
     "output_type": "execute_result"
    }
   ],
   "source": [
    "min([get_loc(seed) for seed in seeds])\n"
   ]
  },
  {
   "cell_type": "markdown",
   "metadata": {},
   "source": [
    "# Part 2"
   ]
  }
 ],
 "metadata": {
  "kernelspec": {
   "display_name": "py312",
   "language": "python",
   "name": "python3"
  },
  "language_info": {
   "codemirror_mode": {
    "name": "ipython",
    "version": 3
   },
   "file_extension": ".py",
   "mimetype": "text/x-python",
   "name": "python",
   "nbconvert_exporter": "python",
   "pygments_lexer": "ipython3",
   "version": "3.12.0"
  }
 },
 "nbformat": 4,
 "nbformat_minor": 2
}
