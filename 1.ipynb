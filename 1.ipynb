{
 "cells": [
  {
   "cell_type": "code",
   "execution_count": 65,
   "metadata": {},
   "outputs": [],
   "source": [
    "with open(\"inputs/1_input.txt\") as f:\n",
    "    lines = f.readlines()\n",
    "\n",
    "lines = [l.strip() for l in lines]\n"
   ]
  },
  {
   "cell_type": "markdown",
   "metadata": {},
   "source": [
    "# Part 1"
   ]
  },
  {
   "cell_type": "code",
   "execution_count": 66,
   "metadata": {},
   "outputs": [
    {
     "name": "stdout",
     "output_type": "stream",
     "text": [
      "54708\n"
     ]
    }
   ],
   "source": [
    "total = 0\n",
    "for line in lines:\n",
    "    for char in line:\n",
    "        if char.isnumeric():\n",
    "            first = char\n",
    "            break\n",
    "\n",
    "    # Search backwards for last\n",
    "    for char in line[::-1]:\n",
    "        if char.isnumeric():\n",
    "            last = char\n",
    "            break\n",
    "\n",
    "    total += int(f\"{first}{last}\")\n",
    "\n",
    "print(total)\n",
    "   \n"
   ]
  },
  {
   "cell_type": "markdown",
   "metadata": {},
   "source": [
    "# Part 2"
   ]
  },
  {
   "cell_type": "code",
   "execution_count": 67,
   "metadata": {},
   "outputs": [],
   "source": [
    "digits = [\"one\", \"two\", \"three\", \"four\", \"five\", \"six\", \"seven\", \"eight\", \"nine\"]\n",
    "digit_mapping = {s: i for s, i in zip(digits, list(range(1, 10)))}\n",
    "digits += [str(i) for i in range(1, 10)]\n"
   ]
  },
  {
   "cell_type": "code",
   "execution_count": 73,
   "metadata": {},
   "outputs": [
    {
     "data": {
      "text/plain": [
       "54087"
      ]
     },
     "execution_count": 73,
     "metadata": {},
     "output_type": "execute_result"
    }
   ],
   "source": [
    "total = 0\n",
    "for line in lines:\n",
    "    # Get mapping from indexes to digits\n",
    "    idxs = {}\n",
    "    for digit in digits:\n",
    "        try:\n",
    "            idxs[line.index(digit)] = digit\n",
    "            # Also need to search backwards to account for duplicate words\n",
    "            idxs[line.rindex(digit)] = digit\n",
    "        except Exception:\n",
    "            continue\n",
    "\n",
    "    min_char = idxs[min(idxs)]\n",
    "    max_char = idxs[max(idxs)]\n",
    "    min_char = digit_mapping.get(min_char, min_char)\n",
    "    max_char = digit_mapping.get(max_char, max_char)\n",
    "\n",
    "    total += int(f\"{min_char}{max_char}\")\n",
    "\n",
    "total\n"
   ]
  },
  {
   "cell_type": "code",
   "execution_count": null,
   "metadata": {},
   "outputs": [],
   "source": []
  }
 ],
 "metadata": {
  "kernelspec": {
   "display_name": "py312",
   "language": "python",
   "name": "python3"
  },
  "language_info": {
   "codemirror_mode": {
    "name": "ipython",
    "version": 3
   },
   "file_extension": ".py",
   "mimetype": "text/x-python",
   "name": "python",
   "nbconvert_exporter": "python",
   "pygments_lexer": "ipython3",
   "version": "3.12.0"
  }
 },
 "nbformat": 4,
 "nbformat_minor": 2
}
